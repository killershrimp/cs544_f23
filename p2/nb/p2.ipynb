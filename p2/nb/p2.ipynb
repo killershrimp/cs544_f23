{
 "cells": [
  {
   "cell_type": "code",
   "execution_count": 17,
   "id": "a738cf41-aace-473d-a7fe-caae4fd0df7e",
   "metadata": {},
   "outputs": [],
   "source": [
    "import torch\n",
    "import numpy as np\n",
    "import pandas as pd"
   ]
  },
  {
   "cell_type": "code",
   "execution_count": 18,
   "id": "cb8eb02c-f5f7-4a70-86a0-6b5c492e1b44",
   "metadata": {},
   "outputs": [],
   "source": [
    "test = torch.from_numpy(pd.read_csv(\"test.csv\").values).float()\n",
    "train = torch.from_numpy(pd.read_csv(\"train.csv\").values).float()\n",
    "\n",
    "testX = test[:,:-1]\n",
    "trainX = train[:,:-1]\n",
    "testY = test[:,-1]\n",
    "trainY = train[:,-1]"
   ]
  },
  {
   "cell_type": "code",
   "execution_count": 19,
   "id": "2976a3a6",
   "metadata": {},
   "outputs": [
    {
     "name": "stdout",
     "output_type": "stream",
     "text": [
      "Predicted deaths for first census tract: 9.844000816345215\n",
      "Average predicted deaths over whole set 12.07363224029541\n"
     ]
    }
   ],
   "source": [
    "coef = torch.tensor([\n",
    "        [0.0040],\n",
    "        [0.0040],\n",
    "        [0.0040],\n",
    "        [0.0040],\n",
    "        [0.0040],\n",
    "        [0.0040], # POS_50_59_CP\n",
    "        [0.0300], # POS_60_69_CP\n",
    "        [0.0300],\n",
    "        [0.0300],\n",
    "        [0.0300]\n",
    "], dtype=torch.float)\n",
    "\n",
    "print(\"Predicted deaths for first census tract:\",(testX[0] @ coef).item())\n",
    "print(\"Average predicted deaths over whole set\", torch.mean(testX @ coef).item())"
   ]
  },
  {
   "cell_type": "code",
   "execution_count": 20,
   "id": "488ee28b",
   "metadata": {},
   "outputs": [
    {
     "name": "stdout",
     "output_type": "stream",
     "text": [
      "Q6: y= 19.0\n",
      "Epoch 10 Loss: 3.2882308959960938\n",
      "Epoch 20 Loss: 3.003323554992676\n",
      "Epoch 30 Loss: 3.0000381469726562\n",
      "Epoch 40 Loss: 3.0\n",
      "Epoch 50 Loss: 3.0\n",
      "Epoch 60 Loss: 3.0\n",
      "Epoch 70 Loss: 3.0\n",
      "Epoch 80 Loss: 3.0\n",
      "Epoch 90 Loss: 3.0\n",
      "Epoch 100 Loss: 3.0\n",
      "Q7: Value of x to minimize y: 3.999999523162842\n"
     ]
    }
   ],
   "source": [
    "x = torch.tensor(0.0).requires_grad_(True)\n",
    "# class Y(torch.nn.Module):\n",
    "#     def __init__(self, x):\n",
    "#         super(Y, self).__init__()\n",
    "#         self.x_ = x.requires_grad_(True)\n",
    "#     def forward(self):\n",
    "#         return self.x_*self.x_ - 8*self.x_ + 19\n",
    "def y_fn(x_):\n",
    "    return x_*x_ - 8*x_ + 19\n",
    "print(\"Q6: y=\" ,y_fn(x).item())\n",
    "\n",
    "import torch.optim as optim\n",
    "optimizer = optim.SGD([x],lr=0.1,maximize=False)\n",
    "epochs = 100\n",
    "for t in range(epochs):\n",
    "    optimizer.zero_grad()\n",
    "    loss = y_fn(x)\n",
    "    loss.backward()\n",
    "    if (t+1) % 10 == 0:\n",
    "        print(\"Epoch\", str(t+1) , \"Loss:\", loss.item())\n",
    "    optimizer.step()\n",
    "\n",
    "print(\"Q7: Value of x to minimize y:\",x.item())"
   ]
  },
  {
   "cell_type": "code",
   "execution_count": 21,
   "id": "6bde890f",
   "metadata": {},
   "outputs": [
    {
     "name": "stdout",
     "output_type": "stream",
     "text": [
      "Epoch 50 Loss: 17.75841522216797\n",
      "Epoch 100 Loss: 31.456315994262695\n",
      "Epoch 150 Loss: 27.300701141357422\n",
      "Epoch 200 Loss: 30.77610969543457\n",
      "Epoch 250 Loss: 46.19178771972656\n",
      "Epoch 300 Loss: 23.183555603027344\n",
      "Epoch 350 Loss: 27.778663635253906\n",
      "Epoch 400 Loss: 25.559171676635742\n",
      "Epoch 450 Loss: 20.10915756225586\n",
      "Epoch 500 Loss: 15.432137489318848\n"
     ]
    }
   ],
   "source": [
    "dim = trainX.shape[1]\n",
    "coef = torch.zeros((dim, 1)).requires_grad_(True)\n",
    "\n",
    "torch.random.manual_seed(544)\n",
    "ds = torch.utils.data.TensorDataset(trainX, trainY)\n",
    "dl = torch.utils.data.DataLoader(ds, batch_size=50, shuffle=True)\n",
    "\n",
    "op = optim.SGD([coef], lr=0.000002, maximize=False)\n",
    "loss_fn = torch.nn.MSELoss()\n",
    "\n",
    "for t in range(500):\n",
    "    for x, y in dl:\n",
    "        op.zero_grad()\n",
    "        loss = loss_fn((x @ coef).flatten(), y)\n",
    "        loss.backward()\n",
    "        # print(loss.item())\n",
    "        op.step()\n",
    "    if (t+1) % 50 == 0:\n",
    "        print(\"Epoch\", str(t+1) , \"Loss:\", loss.item())\n"
   ]
  },
  {
   "cell_type": "code",
   "execution_count": 22,
   "id": "46e1d402",
   "metadata": {},
   "outputs": [
    {
     "name": "stdout",
     "output_type": "stream",
     "text": [
      "Total loss over train: 26.8113956451416\n",
      "Total loss over test: 29.05854606628418\n"
     ]
    }
   ],
   "source": [
    "print(\"Total loss over train:\", loss_fn((trainX @ coef).flatten(), trainY).item())\n",
    "print(\"Total loss over test:\", loss_fn((testX @ coef).flatten(), testY).item())"
   ]
  },
  {
   "cell_type": "code",
   "execution_count": null,
   "id": "431f51c4",
   "metadata": {},
   "outputs": [],
   "source": []
  }
 ],
 "metadata": {
  "kernelspec": {
   "display_name": "Python 3 (ipykernel)",
   "language": "python",
   "name": "python3"
  },
  "language_info": {
   "codemirror_mode": {
    "name": "ipython",
    "version": 3
   },
   "file_extension": ".py",
   "mimetype": "text/x-python",
   "name": "python",
   "nbconvert_exporter": "python",
   "pygments_lexer": "ipython3",
   "version": "3.10.12"
  }
 },
 "nbformat": 4,
 "nbformat_minor": 5
}
