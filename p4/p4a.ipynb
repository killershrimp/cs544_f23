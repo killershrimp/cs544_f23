{
 "cells": [
  {
   "cell_type": "code",
   "execution_count": 35,
   "metadata": {},
   "outputs": [
    {
     "name": "stdout",
     "output_type": "stream",
     "text": [
      "\u001b[1A\u001b[1B\u001b[0G\u001b[?25l[+] Building 0.0s (0/2)                                          docker:default\n",
      "\u001b[?25h\u001b[1A\u001b[0G\u001b[?25l[+] Building 0.1s (2/3)                                          docker:default\n",
      "\u001b[34m => [internal] load build definition from hdfs.Dockerfile                  0.0s\n",
      "\u001b[0m\u001b[34m => => transferring dockerfile: 417B                                       0.0s\n",
      "\u001b[0m\u001b[34m => [internal] load .dockerignore                                          0.0s\n",
      "\u001b[0m\u001b[34m => => transferring context: 2B                                            0.0s\n",
      "\u001b[0m => [internal] load metadata for docker.io/library/ubuntu:22.04            0.1s\n",
      "\u001b[?25h\u001b[1A\u001b[1A\u001b[1A\u001b[1A\u001b[1A\u001b[1A\u001b[0G\u001b[?25l[+] Building 0.3s (2/3)                                          docker:default\n",
      "\u001b[34m => [internal] load build definition from hdfs.Dockerfile                  0.0s\n",
      "\u001b[0m\u001b[34m => => transferring dockerfile: 417B                                       0.0s\n",
      "\u001b[0m\u001b[34m => [internal] load .dockerignore                                          0.0s\n",
      "\u001b[0m\u001b[34m => => transferring context: 2B                                            0.0s\n",
      "\u001b[0m => [internal] load metadata for docker.io/library/ubuntu:22.04            0.2s\n",
      "\u001b[?25h\u001b[1A\u001b[1A\u001b[1A\u001b[1A\u001b[1A\u001b[1A\u001b[0G\u001b[?25l[+] Building 0.4s (3/6)                                          docker:default\n",
      "\u001b[34m => [internal] load build definition from hdfs.Dockerfile                  0.0s\n",
      "\u001b[0m\u001b[34m => => transferring dockerfile: 417B                                       0.0s\n",
      "\u001b[0m\u001b[34m => [internal] load .dockerignore                                          0.0s\n",
      "\u001b[0m\u001b[34m => => transferring context: 2B                                            0.0s\n",
      "\u001b[0m\u001b[34m => [internal] load metadata for docker.io/library/ubuntu:22.04            0.3s\n",
      "\u001b[0m\u001b[?25h\u001b[1A\u001b[1A\u001b[1A\u001b[1A\u001b[1A\u001b[1A\u001b[0G\u001b[?25l[+] Building 0.4s (7/7) FINISHED                                 docker:default\n",
      "\u001b[34m => [internal] load build definition from hdfs.Dockerfile                  0.0s\n",
      "\u001b[0m\u001b[34m => => transferring dockerfile: 417B                                       0.0s\n",
      "\u001b[0m\u001b[34m => [internal] load .dockerignore                                          0.0s\n",
      "\u001b[0m\u001b[34m => => transferring context: 2B                                            0.0s\n",
      "\u001b[0m\u001b[34m => [internal] load metadata for docker.io/library/ubuntu:22.04            0.3s\n",
      "\u001b[0m\u001b[34m => [1/3] FROM docker.io/library/ubuntu:22.04@sha256:2b7412e6465c3c7fc5bb  0.0s\n",
      "\u001b[0m\u001b[34m => CACHED [2/3] RUN apt-get update; apt-get install -y wget curl openjdk  0.0s\n",
      "\u001b[0m\u001b[34m => CACHED [3/3] RUN wget https://dlcdn.apache.org/hadoop/common/hadoop-3  0.0s\n",
      "\u001b[0m\u001b[34m => exporting to image                                                     0.0s\n",
      "\u001b[0m\u001b[34m => => exporting layers                                                    0.0s\n",
      "\u001b[0m\u001b[34m => => writing image sha256:92838c695442b32971605403cad17de74eab9b40bc21e  0.0s\n",
      "\u001b[0m\u001b[34m => => naming to docker.io/library/p4-hdfs                                 0.0s\n",
      "\u001b[0m\u001b[?25h\u001b[1A\u001b[1B\u001b[0G\u001b[?25l[+] Building 0.0s (0/1)                                          docker:default\n",
      "\u001b[?25h\u001b[1A\u001b[0G\u001b[?25l[+] Building 0.1s (6/6) FINISHED                                 docker:default\n",
      "\u001b[34m => [internal] load build definition from notebook.Dockerfile              0.0s\n",
      "\u001b[0m\u001b[34m => => transferring dockerfile: 335B                                       0.0s\n",
      "\u001b[0m\u001b[34m => [internal] load .dockerignore                                          0.0s\n",
      "\u001b[0m\u001b[34m => => transferring context: 2B                                            0.0s\n",
      "\u001b[0m\u001b[34m => [internal] load metadata for docker.io/library/p4-hdfs:latest          0.0s\n",
      "\u001b[0m\u001b[34m => [1/2] FROM docker.io/library/p4-hdfs                                   0.0s\n",
      "\u001b[0m\u001b[34m => CACHED [2/2] RUN pip3 install jupyterlab==4.0.3 jupyter-client==8.4.0  0.0s\n",
      "\u001b[0m\u001b[34m => exporting to image                                                     0.0s\n",
      "\u001b[0m\u001b[34m => => exporting layers                                                    0.0s\n",
      "\u001b[0m\u001b[34m => => writing image sha256:3352e79c0cd478adfc23663c34480aacc31ed3ad120a9  0.0s\n",
      "\u001b[0m\u001b[34m => => naming to docker.io/library/p4-nb                                   0.0s\n",
      "\u001b[0m\u001b[?25h\u001b[1A\u001b[1B\u001b[0G\u001b[?25l[+] Building 0.0s (0/2)                                          docker:default\n",
      "\u001b[?25h\u001b[1A\u001b[0G\u001b[?25l[+] Building 0.1s (5/5) FINISHED                                 docker:default\n",
      "\u001b[34m => [internal] load build definition from namenode.Dockerfile              0.0s\n",
      "\u001b[0m\u001b[34m => => transferring dockerfile: 225B                                       0.0s\n",
      "\u001b[0m\u001b[34m => [internal] load .dockerignore                                          0.0s\n",
      "\u001b[0m\u001b[34m => => transferring context: 2B                                            0.0s\n",
      "\u001b[0m\u001b[34m => [internal] load metadata for docker.io/library/p4-hdfs:latest          0.0s\n",
      "\u001b[0m\u001b[34m => CACHED [1/1] FROM docker.io/library/p4-hdfs                            0.0s\n",
      "\u001b[0m\u001b[34m => exporting to image                                                     0.0s\n",
      "\u001b[0m\u001b[34m => => exporting layers                                                    0.0s\n",
      "\u001b[0m\u001b[34m => => writing image sha256:6623949848c7d52d540ee06c5c9e81b6ee3403de23eaa  0.0s\n",
      "\u001b[0m\u001b[34m => => naming to docker.io/library/p4-nn                                   0.0s\n",
      "\u001b[0m\u001b[?25h\u001b[1A\u001b[1B\u001b[0G\u001b[?25l[+] Building 0.0s (0/2)                                          docker:default\n",
      "\u001b[?25h\u001b[1A\u001b[0G\u001b[?25l[+] Building 0.1s (5/5) FINISHED                                 docker:default\n",
      "\u001b[34m => [internal] load build definition from datanode.Dockerfile              0.0s\n",
      "\u001b[0m\u001b[34m => => transferring dockerfile: 138B                                       0.0s\n",
      "\u001b[0m\u001b[34m => [internal] load .dockerignore                                          0.0s\n",
      "\u001b[0m\u001b[34m => => transferring context: 2B                                            0.0s\n",
      "\u001b[0m\u001b[34m => [internal] load metadata for docker.io/library/p4-hdfs:latest          0.0s\n",
      "\u001b[0m\u001b[34m => CACHED [1/1] FROM docker.io/library/p4-hdfs                            0.0s\n",
      "\u001b[0m\u001b[34m => exporting to image                                                     0.0s\n",
      "\u001b[0m\u001b[34m => => exporting layers                                                    0.0s\n",
      "\u001b[0m\u001b[34m => => writing image sha256:97af5d293335960b490b9a874b5d8338decfb2f758905  0.0s\n",
      "\u001b[0m\u001b[34m => => naming to docker.io/library/p4-dn                                   0.0s\n",
      "\u001b[0m\u001b[?25h\u001b[1A\u001b[1B\u001b[0G\u001b[?25l[+] Running 4/0\n",
      " \u001b[32m✔\u001b[0m Container p4-dn-2  \u001b[32mRunning\u001b[0m                                              \u001b[34m0.0s \u001b[0m\n",
      " \u001b[32m✔\u001b[0m Container p4-nb-1  \u001b[32mRunning\u001b[0m                                              \u001b[34m0.0s \u001b[0m\n",
      " \u001b[32m✔\u001b[0m Container p4-dn-1  \u001b[32mRunning\u001b[0m                                              \u001b[34m0.0s \u001b[0m\n",
      " \u001b[32m✔\u001b[0m Container p4-nn-1  \u001b[32mRunning\u001b[0m                                              \u001b[34m0.0s \u001b[0m\n",
      "\u001b[?25h"
     ]
    }
   ],
   "source": [
    "!docker build . -f hdfs.Dockerfile -t p4-hdfs\n",
    "!docker build . -f notebook.Dockerfile -t p4-nb\n",
    "!docker build . -f namenode.Dockerfile -t p4-nn\n",
    "!docker build . -f datanode.Dockerfile -t p4-dn\n",
    "!docker compose up -d"
   ]
  },
  {
   "cell_type": "code",
   "execution_count": 36,
   "metadata": {},
   "outputs": [
    {
     "name": "stdout",
     "output_type": "stream",
     "text": [
      "Configured Capacity: 51642105856 (48.10 GB)\n",
      "Present Capacity: 7432433664 (6.92 GB)\n",
      "DFS Remaining: 6727073792 (6.27 GB)\n",
      "DFS Used: 705359872 (672.68 MB)\n",
      "DFS Used%: 9.49%\n",
      "Replicated Blocks:\n",
      "\tUnder replicated blocks: 4\n",
      "\tBlocks with corrupt replicas: 0\n",
      "\tMissing blocks: 0\n",
      "\tMissing blocks (with replication factor 1): 0\n",
      "\tLow redundancy blocks with highest priority to recover: 0\n",
      "\tPending deletion blocks: 0\n",
      "Erasure Coded Block Groups: \n",
      "\tLow redundancy block groups: 0\n",
      "\tBlock groups with corrupt internal blocks: 0\n",
      "\tMissing block groups: 0\n",
      "\tLow redundancy blocks with highest priority to recover: 0\n",
      "\tPending deletion blocks: 0\n",
      "\n",
      "-------------------------------------------------\n",
      "Live datanodes (2):\n",
      "\n",
      "Name: 172.18.0.2:9866 (p4-dn-2.p4_default)\n",
      "Hostname: 4db350eaee63\n",
      "Decommission Status : Normal\n",
      "Configured Capacity: 25821052928 (24.05 GB)\n",
      "DFS Used: 352681984 (336.34 MB)\n",
      "Non DFS Used: 22088056832 (20.57 GB)\n",
      "DFS Remaining: 3363536896 (3.13 GB)\n",
      "DFS Used%: 1.37%\n",
      "DFS Remaining%: 13.03%\n",
      "Configured Cache Capacity: 0 (0 B)\n",
      "Cache Used: 0 (0 B)\n",
      "Cache Remaining: 0 (0 B)\n",
      "Cache Used%: 100.00%\n",
      "Cache Remaining%: 0.00%\n",
      "Xceivers: 0\n",
      "Last contact: Fri Nov 24 23:21:08 GMT 2023\n",
      "Last Block Report: Fri Nov 24 18:29:24 GMT 2023\n",
      "Num of Blocks: 4\n",
      "\n",
      "\n",
      "Name: 172.18.0.5:9866 (61e999425716)\n",
      "Hostname: 61e999425716\n",
      "Decommission Status : Normal\n",
      "Configured Capacity: 25821052928 (24.05 GB)\n",
      "DFS Used: 352677888 (336.34 MB)\n",
      "Non DFS Used: 22088060928 (20.57 GB)\n",
      "DFS Remaining: 3363536896 (3.13 GB)\n",
      "DFS Used%: 1.37%\n",
      "DFS Remaining%: 13.03%\n",
      "Configured Cache Capacity: 0 (0 B)\n",
      "Cache Used: 0 (0 B)\n",
      "Cache Remaining: 0 (0 B)\n",
      "Cache Used%: 100.00%\n",
      "Cache Remaining%: 0.00%\n",
      "Xceivers: 0\n",
      "Last contact: Fri Nov 24 23:21:08 GMT 2023\n",
      "Last Block Report: Fri Nov 24 22:11:40 GMT 2023\n",
      "Num of Blocks: 4\n",
      "\n",
      "\n"
     ]
    }
   ],
   "source": [
    "#q1\n",
    "!docker exec p4-dn-1 hdfs dfsadmin -D 'fs.defaultFS=hdfs://boss:9000' -report -live"
   ]
  },
  {
   "cell_type": "code",
   "execution_count": null,
   "metadata": {},
   "outputs": [],
   "source": [
    "!docker exec p4-dn-1 wget https://pages.cs.wisc.edu/~harter/cs544/data/hdma-wi-2021.csv"
   ]
  },
  {
   "cell_type": "code",
   "execution_count": 46,
   "metadata": {},
   "outputs": [
    {
     "name": "stdout",
     "output_type": "stream",
     "text": [
      "Deleted hdfs://boss:9000/single.csv\n",
      "Deleted hdfs://boss:9000/double.csv\n"
     ]
    }
   ],
   "source": [
    "!docker exec p4-dn-1 hdfs dfs -rm -f hdfs://boss:9000/single.csv\n",
    "!docker exec p4-dn-1 hdfs dfs -rm -f hdfs://boss:9000/double.csv"
   ]
  },
  {
   "cell_type": "code",
   "execution_count": 47,
   "metadata": {},
   "outputs": [],
   "source": [
    "!docker exec p4-dn-1 hdfs dfs -D dfs.block.size=1048576 -D dfs.replication=1 -cp hdma-wi-2021.csv hdfs://boss:9000/single.csv\n",
    "!docker exec p4-dn-1 hdfs dfs -D dfs.block.size=1048576 -D dfs.replication=2 -cp hdma-wi-2021.csv hdfs://boss:9000/double.csv"
   ]
  },
  {
   "cell_type": "code",
   "execution_count": null,
   "metadata": {},
   "outputs": [],
   "source": [
    "#q2\n",
    "!docker exec p4-dn-1 hdfs dfs -du -h hdfs://boss:9000/single.csv\n",
    "!docker exec p4-dn-1 hdfs dfs -du -h hdfs://boss:9000/double.csv"
   ]
  }
 ],
 "metadata": {
  "kernelspec": {
   "display_name": "Python 3 (ipykernel)",
   "language": "python",
   "name": "python3"
  },
  "language_info": {
   "codemirror_mode": {
    "name": "ipython",
    "version": 3
   },
   "file_extension": ".py",
   "mimetype": "text/x-python",
   "name": "python",
   "nbconvert_exporter": "python",
   "pygments_lexer": "ipython3",
   "version": "3.10.12"
  }
 },
 "nbformat": 4,
 "nbformat_minor": 5
}
