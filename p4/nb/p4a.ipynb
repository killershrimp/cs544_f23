{
 "cells": [
  {
   "cell_type": "code",
   "execution_count": 1,
   "id": "707b686c-2c23-4dda-b78e-19f76611da13",
   "metadata": {},
   "outputs": [
    {
     "name": "stdout",
     "output_type": "stream",
     "text": [
      "Configured Capacity: 51642105856 (48.10 GB)\n",
      "Present Capacity: 5366452224 (5.00 GB)\n",
      "DFS Remaining: 4835262464 (4.50 GB)\n",
      "DFS Used: 531189760 (506.58 MB)\n",
      "DFS Used%: 9.90%\n",
      "Replicated Blocks:\n",
      "\tUnder replicated blocks: 0\n",
      "\tBlocks with corrupt replicas: 0\n",
      "\tMissing blocks: 0\n",
      "\tMissing blocks (with replication factor 1): 0\n",
      "\tLow redundancy blocks with highest priority to recover: 0\n",
      "\tPending deletion blocks: 0\n",
      "Erasure Coded Block Groups: \n",
      "\tLow redundancy block groups: 0\n",
      "\tBlock groups with corrupt internal blocks: 0\n",
      "\tMissing block groups: 0\n",
      "\tLow redundancy blocks with highest priority to recover: 0\n",
      "\tPending deletion blocks: 0\n",
      "\n",
      "-------------------------------------------------\n",
      "Live datanodes (2):\n",
      "\n",
      "Name: 172.18.0.2:9866 (p4-dn-2.p4_default)\n",
      "Hostname: 4db350eaee63\n",
      "Decommission Status : Normal\n",
      "Configured Capacity: 25821052928 (24.05 GB)\n",
      "DFS Used: 260898816 (248.81 MB)\n",
      "Non DFS Used: 23125745664 (21.54 GB)\n",
      "DFS Remaining: 2417631232 (2.25 GB)\n",
      "DFS Used%: 1.01%\n",
      "DFS Remaining%: 9.36%\n",
      "Configured Cache Capacity: 0 (0 B)\n",
      "Cache Used: 0 (0 B)\n",
      "Cache Remaining: 0 (0 B)\n",
      "Cache Used%: 100.00%\n",
      "Cache Remaining%: 0.00%\n",
      "Xceivers: 0\n",
      "Last contact: Sun Nov 26 21:16:05 GMT 2023\n",
      "Last Block Report: Sun Nov 26 18:29:22 GMT 2023\n",
      "Num of Blocks: 246\n",
      "\n",
      "\n",
      "Name: 172.18.0.5:9866 (p4-dn-1.p4_default)\n",
      "Hostname: 61e999425716\n",
      "Decommission Status : Normal\n",
      "Configured Capacity: 25821052928 (24.05 GB)\n",
      "DFS Used: 270290944 (257.77 MB)\n",
      "Non DFS Used: 23116353536 (21.53 GB)\n",
      "DFS Remaining: 2417631232 (2.25 GB)\n",
      "DFS Used%: 1.05%\n",
      "DFS Remaining%: 9.36%\n",
      "Configured Cache Capacity: 0 (0 B)\n",
      "Cache Used: 0 (0 B)\n",
      "Cache Remaining: 0 (0 B)\n",
      "Cache Used%: 100.00%\n",
      "Cache Remaining%: 0.00%\n",
      "Xceivers: 0\n",
      "Last contact: Sun Nov 26 21:16:05 GMT 2023\n",
      "Last Block Report: Sun Nov 26 16:11:39 GMT 2023\n",
      "Num of Blocks: 255\n",
      "\n",
      "\n"
     ]
    }
   ],
   "source": [
    "#q1\n",
    "!hdfs dfsadmin -D 'fs.defaultFS=hdfs://boss:9000' -report -live"
   ]
  },
  {
   "cell_type": "code",
   "execution_count": 23,
   "id": "eda58a4f-4977-4db2-949d-5c214db8fd18",
   "metadata": {},
   "outputs": [
    {
     "name": "stdout",
     "output_type": "stream",
     "text": [
      "--2023-11-26 21:01:52--  https://pages.cs.wisc.edu/~harter/cs544/data/hdma-wi-2021.csv\n",
      "Resolving pages.cs.wisc.edu (pages.cs.wisc.edu)... 128.105.7.9\n",
      "Connecting to pages.cs.wisc.edu (pages.cs.wisc.edu)|128.105.7.9|:443... connected.\n",
      "HTTP request sent, awaiting response... 200 OK\n",
      "Length: 174944099 (167M) [text/csv]\n",
      "Saving to: ‘hdma-wi-2021.csv.1’\n",
      "\n",
      "hdma-wi-2021.csv.1  100%[===================>] 166.84M  22.8MB/s    in 8.0s    \n",
      "\n",
      "2023-11-26 21:02:00 (20.9 MB/s) - ‘hdma-wi-2021.csv.1’ saved [174944099/174944099]\n",
      "\n"
     ]
    }
   ],
   "source": [
    "!wget https://pages.cs.wisc.edu/~harter/cs544/data/hdma-wi-2021.csv"
   ]
  },
  {
   "cell_type": "code",
   "execution_count": 6,
   "id": "cc40ce59-7f1e-4acd-a92e-4fb5aabe8182",
   "metadata": {},
   "outputs": [
    {
     "name": "stdout",
     "output_type": "stream",
     "text": [
      "Deleted hdfs://boss:9000/single.csv\n",
      "Deleted hdfs://boss:9000/double.csv\n"
     ]
    }
   ],
   "source": [
    "!hdfs dfs -rm -f hdfs://boss:9000/single.csv\n",
    "!hdfs dfs -rm -f hdfs://boss:9000/double.csv"
   ]
  },
  {
   "cell_type": "code",
   "execution_count": 8,
   "id": "1a4c1ead-7f95-4f8f-a4c8-d283bb3f4a66",
   "metadata": {},
   "outputs": [
    {
     "name": "stdout",
     "output_type": "stream",
     "text": [
      "cp: `hdfs://boss:9000/single.csv': File exists\n",
      "cp: `hdfs://boss:9000/double.csv': File exists\n"
     ]
    }
   ],
   "source": [
    "!hdfs dfs -D dfs.block.size=1048576 -D dfs.replication=1 -cp hdma-wi-2021.csv hdfs://boss:9000/single.csv\n",
    "!hdfs dfs -D dfs.block.size=1048576 -D dfs.replication=2 -cp hdma-wi-2021.csv hdfs://boss:9000/double.csv"
   ]
  },
  {
   "cell_type": "code",
   "execution_count": 2,
   "id": "d5702f74-27fb-4873-ad4c-0060075336ca",
   "metadata": {},
   "outputs": [
    {
     "name": "stdout",
     "output_type": "stream",
     "text": [
      "166.8 M  166.8 M  hdfs://boss:9000/single.csv\n",
      "166.8 M  333.7 M  hdfs://boss:9000/double.csv\n"
     ]
    }
   ],
   "source": [
    "#q2\n",
    "!hdfs dfs -du -h hdfs://boss:9000/single.csv\n",
    "!hdfs dfs -du -h hdfs://boss:9000/double.csv"
   ]
  },
  {
   "cell_type": "code",
   "execution_count": 3,
   "id": "41db12b9-724b-4327-bcf6-1b2651253407",
   "metadata": {},
   "outputs": [
    {
     "name": "stdout",
     "output_type": "stream",
     "text": [
      "{'FileStatus': {'accessTime': 1701032555432, 'blockSize': 1048576, 'childrenNum': 0, 'fileId': 16392, 'group': 'supergroup', 'length': 174944099, 'modificationTime': 1700871519161, 'owner': 'root', 'pathSuffix': '', 'permission': '644', 'replication': 1, 'storagePolicy': 0, 'type': 'FILE'}}\n"
     ]
    }
   ],
   "source": [
    "import requests\n",
    "\n",
    "#q3\n",
    "status = requests.get(\"http://boss:9870/webhdfs/v1/single.csv?op=GETFILESTATUS\")\n",
    "print(status.json())"
   ]
  },
  {
   "cell_type": "code",
   "execution_count": 5,
   "id": "0da0651e-5b31-4b9b-a618-d47176dceb72",
   "metadata": {},
   "outputs": [
    {
     "name": "stdout",
     "output_type": "stream",
     "text": [
      "{'Location': 'http://4db350eaee63:9864/webhdfs/v1/single.csv?op=OPEN&namenoderpcaddress=boss:9000&offset=0'}\n"
     ]
    }
   ],
   "source": [
    "#q4\n",
    "r = requests.get(\"http://boss:9870/webhdfs/v1/single.csv?op=OPEN&offset=0&noredirect=true\")\n",
    "print(r.json())\n"
   ]
  },
  {
   "cell_type": "code",
   "execution_count": null,
   "id": "55071dbd-7524-4539-8f72-4a9bad1f0800",
   "metadata": {},
   "outputs": [
    {
     "name": "stdout",
     "output_type": "stream",
     "text": [
      "tp\n",
      "tp\n",
      "tp\n",
      "tp\n",
      "tp\n",
      "tp\n",
      "tp\n",
      "tp\n",
      "tp\n",
      "tp\n",
      "tp\n",
      "tp\n",
      "tp\n",
      "tp\n",
      "tp\n",
      "tp\n",
      "tp\n",
      "tp\n",
      "tp\n",
      "tp\n",
      "tp\n",
      "tp\n",
      "tp\n",
      "tp\n",
      "tp\n",
      "tp\n",
      "tp\n",
      "tp\n",
      "tp\n",
      "tp\n",
      "tp\n",
      "tp\n",
      "tp\n",
      "tp\n",
      "tp\n",
      "tp\n",
      "tp\n",
      "tp\n",
      "tp\n",
      "tp\n",
      "tp\n",
      "tp\n",
      "tp\n",
      "tp\n",
      "tp\n",
      "tp\n",
      "tp\n",
      "tp\n",
      "tp\n",
      "tp\n",
      "tp\n",
      "tp\n",
      "tp\n",
      "tp\n",
      "tp\n",
      "tp\n",
      "tp\n",
      "tp\n",
      "tp\n",
      "tp\n",
      "tp\n",
      "tp\n",
      "tp\n"
     ]
    }
   ],
   "source": [
    "block_size = status.json()['FileStatus']['blockSize']\n",
    "length = status.json()['FileStatus']['length']\n",
    "locs = {}\n",
    "for i in range(0, length, block_size):\n",
    "    r = requests.get(\"http://boss:9870/webhdfs/v1/single.csv?op=OPEN&noredirect=true&offset=\"+str(i))\n",
    "    full_url = r.json()['Location']\n",
    "    url = full_url.split(':')[0][2:]\n",
    "    print(url)\n",
    "# max = 0\n",
    "# while "
   ]
  },
  {
   "cell_type": "code",
   "execution_count": 27,
   "id": "e54b9837-1d7e-45cd-9048-4bc43de2c23e",
   "metadata": {},
   "outputs": [],
   "source": [
    "import pyarrow as pa\n",
    "import pyarrow.fs\n",
    "hdfs = pa.fs.HadoopFileSystem(\"boss\", 9870)"
   ]
  },
  {
   "cell_type": "code",
   "execution_count": 31,
   "id": "bf4954c8-46f2-47b4-a455-15d1276f3ef8",
   "metadata": {},
   "outputs": [
    {
     "ename": "AttributeError",
     "evalue": "'Response' object has no attribute 'type'",
     "output_type": "error",
     "traceback": [
      "\u001b[0;31m---------------------------------------------------------------------------\u001b[0m",
      "\u001b[0;31mAttributeError\u001b[0m                            Traceback (most recent call last)",
      "Cell \u001b[0;32mIn[31], line 1\u001b[0m\n\u001b[0;32m----> 1\u001b[0m \u001b[43mr\u001b[49m\u001b[38;5;241;43m.\u001b[39;49m\u001b[43mtype\u001b[49m()\n",
      "\u001b[0;31mAttributeError\u001b[0m: 'Response' object has no attribute 'type'"
     ]
    }
   ],
   "source": []
  },
  {
   "cell_type": "code",
   "execution_count": 17,
   "id": "2c21259d-c930-4a39-b554-91350153b679",
   "metadata": {},
   "outputs": [
    {
     "name": "stderr",
     "output_type": "stream",
     "text": [
      "hdfsOpenFile(webhdfs/v1/single.csv): FileSystem#open((Lorg/apache/hadoop/fs/Path;I)Lorg/apache/hadoop/fs/FSDataInputStream;) error:\n",
      "RpcException: RPC response exceeds maximum data lengthorg.apache.hadoop.ipc.RpcException: RPC response exceeds maximum data length\n",
      "\tat org.apache.hadoop.ipc.Client$IpcStreams.readResponse(Client.java:1920)\n",
      "\tat org.apache.hadoop.ipc.Client$Connection.receiveRpcResponse(Client.java:1187)\n",
      "\tat org.apache.hadoop.ipc.Client$Connection.run(Client.java:1078)\n"
     ]
    },
    {
     "ename": "OSError",
     "evalue": "[Errno 255] Opening HDFS file 'webhdfs/v1/single.csv' failed. Detail: [errno 255] Unknown error 255",
     "output_type": "error",
     "traceback": [
      "\u001b[0;31m---------------------------------------------------------------------------\u001b[0m",
      "\u001b[0;31mOSError\u001b[0m                                   Traceback (most recent call last)",
      "Cell \u001b[0;32mIn[17], line 1\u001b[0m\n\u001b[0;32m----> 1\u001b[0m f \u001b[38;5;241m=\u001b[39m \u001b[43mhdfs\u001b[49m\u001b[38;5;241;43m.\u001b[39;49m\u001b[43mopen_input_file\u001b[49m\u001b[43m(\u001b[49m\u001b[38;5;124;43m\"\u001b[39;49m\u001b[38;5;124;43mwebhdfs/v1/single.csv\u001b[39;49m\u001b[38;5;124;43m\"\u001b[39;49m\u001b[43m)\u001b[49m\n",
      "File \u001b[0;32m/usr/local/lib/python3.10/dist-packages/pyarrow/_fs.pyx:770\u001b[0m, in \u001b[0;36mpyarrow._fs.FileSystem.open_input_file\u001b[0;34m()\u001b[0m\n",
      "File \u001b[0;32m/usr/local/lib/python3.10/dist-packages/pyarrow/error.pxi:144\u001b[0m, in \u001b[0;36mpyarrow.lib.pyarrow_internal_check_status\u001b[0;34m()\u001b[0m\n",
      "File \u001b[0;32m/usr/local/lib/python3.10/dist-packages/pyarrow/error.pxi:113\u001b[0m, in \u001b[0;36mpyarrow.lib.check_status\u001b[0;34m()\u001b[0m\n",
      "\u001b[0;31mOSError\u001b[0m: [Errno 255] Opening HDFS file 'webhdfs/v1/single.csv' failed. Detail: [errno 255] Unknown error 255"
     ]
    }
   ],
   "source": [
    "f = hdfs.open_input_file(\"webhdfs/v1/single.csv\")"
   ]
  },
  {
   "cell_type": "code",
   "execution_count": null,
   "id": "b712d9b5-65de-4d29-814e-d127b9e5b736",
   "metadata": {},
   "outputs": [],
   "source": []
  }
 ],
 "metadata": {
  "kernelspec": {
   "display_name": "Python 3 (ipykernel)",
   "language": "python",
   "name": "python3"
  },
  "language_info": {
   "codemirror_mode": {
    "name": "ipython",
    "version": 3
   },
   "file_extension": ".py",
   "mimetype": "text/x-python",
   "name": "python",
   "nbconvert_exporter": "python",
   "pygments_lexer": "ipython3",
   "version": "3.10.12"
  }
 },
 "nbformat": 4,
 "nbformat_minor": 5
}
