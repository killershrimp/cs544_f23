{
 "cells": [
  {
   "cell_type": "code",
   "execution_count": 1,
   "id": "707b686c-2c23-4dda-b78e-19f76611da13",
   "metadata": {},
   "outputs": [
    {
     "name": "stdout",
     "output_type": "stream",
     "text": [
      "Configured Capacity: 51642105856 (48.10 GB)\n",
      "Present Capacity: 7151009792 (6.66 GB)\n",
      "DFS Remaining: 7150960640 (6.66 GB)\n",
      "DFS Used: 49152 (48 KB)\n",
      "DFS Used%: 0.00%\n",
      "Replicated Blocks:\n",
      "\tUnder replicated blocks: 0\n",
      "\tBlocks with corrupt replicas: 0\n",
      "\tMissing blocks: 0\n",
      "\tMissing blocks (with replication factor 1): 0\n",
      "\tLow redundancy blocks with highest priority to recover: 0\n",
      "\tPending deletion blocks: 0\n",
      "Erasure Coded Block Groups: \n",
      "\tLow redundancy block groups: 0\n",
      "\tBlock groups with corrupt internal blocks: 0\n",
      "\tMissing block groups: 0\n",
      "\tLow redundancy blocks with highest priority to recover: 0\n",
      "\tPending deletion blocks: 0\n",
      "\n",
      "-------------------------------------------------\n",
      "Live datanodes (2):\n",
      "\n",
      "Name: 172.18.0.3:9866 (p4-dn-2.p4_default)\n",
      "Hostname: 0355590adf2f\n",
      "Decommission Status : Normal\n",
      "Configured Capacity: 25821052928 (24.05 GB)\n",
      "DFS Used: 24576 (24 KB)\n",
      "Non DFS Used: 22228770816 (20.70 GB)\n",
      "DFS Remaining: 3575480320 (3.33 GB)\n",
      "DFS Used%: 0.00%\n",
      "DFS Remaining%: 13.85%\n",
      "Configured Cache Capacity: 0 (0 B)\n",
      "Cache Used: 0 (0 B)\n",
      "Cache Remaining: 0 (0 B)\n",
      "Cache Used%: 100.00%\n",
      "Cache Remaining%: 0.00%\n",
      "Xceivers: 0\n",
      "Last contact: Sun Nov 26 22:09:59 GMT 2023\n",
      "Last Block Report: Sun Nov 26 22:08:32 GMT 2023\n",
      "Num of Blocks: 0\n",
      "\n",
      "\n",
      "Name: 172.18.0.5:9866 (p4-dn-1.p4_default)\n",
      "Hostname: 3c9b971ec4c3\n",
      "Decommission Status : Normal\n",
      "Configured Capacity: 25821052928 (24.05 GB)\n",
      "DFS Used: 24576 (24 KB)\n",
      "Non DFS Used: 22228770816 (20.70 GB)\n",
      "DFS Remaining: 3575480320 (3.33 GB)\n",
      "DFS Used%: 0.00%\n",
      "DFS Remaining%: 13.85%\n",
      "Configured Cache Capacity: 0 (0 B)\n",
      "Cache Used: 0 (0 B)\n",
      "Cache Remaining: 0 (0 B)\n",
      "Cache Used%: 100.00%\n",
      "Cache Remaining%: 0.00%\n",
      "Xceivers: 0\n",
      "Last contact: Sun Nov 26 22:09:59 GMT 2023\n",
      "Last Block Report: Sun Nov 26 22:08:32 GMT 2023\n",
      "Num of Blocks: 0\n",
      "\n",
      "\n"
     ]
    }
   ],
   "source": [
    "#q1\n",
    "!hdfs dfsadmin -D 'fs.defaultFS=hdfs://boss:9000' -report -live"
   ]
  },
  {
   "cell_type": "code",
   "execution_count": 23,
   "id": "eda58a4f-4977-4db2-949d-5c214db8fd18",
   "metadata": {},
   "outputs": [
    {
     "name": "stdout",
     "output_type": "stream",
     "text": [
      "--2023-11-26 21:01:52--  https://pages.cs.wisc.edu/~harter/cs544/data/hdma-wi-2021.csv\n",
      "Resolving pages.cs.wisc.edu (pages.cs.wisc.edu)... 128.105.7.9\n",
      "Connecting to pages.cs.wisc.edu (pages.cs.wisc.edu)|128.105.7.9|:443... connected.\n",
      "HTTP request sent, awaiting response... 200 OK\n",
      "Length: 174944099 (167M) [text/csv]\n",
      "Saving to: ‘hdma-wi-2021.csv.1’\n",
      "\n",
      "hdma-wi-2021.csv.1  100%[===================>] 166.84M  22.8MB/s    in 8.0s    \n",
      "\n",
      "2023-11-26 21:02:00 (20.9 MB/s) - ‘hdma-wi-2021.csv.1’ saved [174944099/174944099]\n",
      "\n"
     ]
    }
   ],
   "source": [
    "!wget https://pages.cs.wisc.edu/~harter/cs544/data/hdma-wi-2021.csv"
   ]
  },
  {
   "cell_type": "code",
   "execution_count": 2,
   "id": "cc40ce59-7f1e-4acd-a92e-4fb5aabe8182",
   "metadata": {},
   "outputs": [],
   "source": [
    "!hdfs dfs -rm -f hdfs://boss:9000/single.csv\n",
    "!hdfs dfs -rm -f hdfs://boss:9000/double.csv"
   ]
  },
  {
   "cell_type": "code",
   "execution_count": 3,
   "id": "1a4c1ead-7f95-4f8f-a4c8-d283bb3f4a66",
   "metadata": {},
   "outputs": [],
   "source": [
    "!hdfs dfs -D dfs.block.size=1048576 -D dfs.replication=1 -cp hdma-wi-2021.csv hdfs://boss:9000/single.csv\n",
    "!hdfs dfs -D dfs.block.size=1048576 -D dfs.replication=2 -cp hdma-wi-2021.csv hdfs://boss:9000/double.csv"
   ]
  },
  {
   "cell_type": "code",
   "execution_count": 4,
   "id": "d5702f74-27fb-4873-ad4c-0060075336ca",
   "metadata": {},
   "outputs": [
    {
     "name": "stdout",
     "output_type": "stream",
     "text": [
      "166.8 M  166.8 M  hdfs://boss:9000/single.csv\n",
      "166.8 M  333.7 M  hdfs://boss:9000/double.csv\n"
     ]
    }
   ],
   "source": [
    "#q2\n",
    "!hdfs dfs -du -h hdfs://boss:9000/single.csv\n",
    "!hdfs dfs -du -h hdfs://boss:9000/double.csv"
   ]
  },
  {
   "cell_type": "code",
   "execution_count": 5,
   "id": "41db12b9-724b-4327-bcf6-1b2651253407",
   "metadata": {},
   "outputs": [
    {
     "name": "stdout",
     "output_type": "stream",
     "text": [
      "{'FileStatus': {'accessTime': 1701036627785, 'blockSize': 1048576, 'childrenNum': 0, 'fileId': 16386, 'group': 'supergroup', 'length': 174944099, 'modificationTime': 1701036633888, 'owner': 'root', 'pathSuffix': '', 'permission': '644', 'replication': 1, 'storagePolicy': 0, 'type': 'FILE'}}\n"
     ]
    }
   ],
   "source": [
    "import requests\n",
    "\n",
    "#q3\n",
    "status = requests.get(\"http://boss:9870/webhdfs/v1/single.csv?op=GETFILESTATUS\")\n",
    "status.json()"
   ]
  },
  {
   "cell_type": "code",
   "execution_count": 6,
   "id": "0da0651e-5b31-4b9b-a618-d47176dceb72",
   "metadata": {},
   "outputs": [
    {
     "name": "stdout",
     "output_type": "stream",
     "text": [
      "{'Location': 'http://3c9b971ec4c3:9864/webhdfs/v1/single.csv?op=OPEN&namenoderpcaddress=boss:9000&offset=0'}\n"
     ]
    }
   ],
   "source": [
    "#q4\n",
    "r = requests.get(\"http://boss:9870/webhdfs/v1/single.csv?op=OPEN&offset=0&noredirect=true\")\n",
    "r.json()\n"
   ]
  },
  {
   "cell_type": "code",
   "execution_count": 7,
   "id": "55071dbd-7524-4539-8f72-4a9bad1f0800",
   "metadata": {},
   "outputs": [
    {
     "name": "stdout",
     "output_type": "stream",
     "text": [
      "{'3c9b971ec4c3': 82, '0355590adf2f': 85}\n"
     ]
    }
   ],
   "source": [
    "block_size = status.json()['FileStatus']['blockSize']\n",
    "length = status.json()['FileStatus']['length']\n",
    "locs = {}\n",
    "for i in range(0, length, block_size):\n",
    "    r = requests.get(\"http://boss:9870/webhdfs/v1/single.csv?op=OPEN&noredirect=true&offset=\"+str(i))\n",
    "    full_url = r.json()['Location']\n",
    "    url = full_url.split(':')[1][2:]\n",
    "    if url in locs:\n",
    "        locs[url] += 1\n",
    "    else:\n",
    "        locs[url] = 1\n",
    "#q5\n",
    "locs\n"
   ]
  },
  {
   "cell_type": "code",
   "execution_count": 40,
   "id": "e54b9837-1d7e-45cd-9048-4bc43de2c23e",
   "metadata": {},
   "outputs": [],
   "source": [
    "import pyarrow as pa\n",
    "import pyarrow.fs\n",
    "hdfs = pa.fs.HadoopFileSystem(\"boss\", 9000)"
   ]
  },
  {
   "cell_type": "code",
   "execution_count": 50,
   "id": "2c21259d-c930-4a39-b554-91350153b679",
   "metadata": {},
   "outputs": [
    {
     "name": "stdout",
     "output_type": "stream",
     "text": [
      "b'activity_y'\n"
     ]
    }
   ],
   "source": [
    "f = hdfs.open_input_file(\"/single.csv\")\n",
    "\n",
    "#q6\n",
    "f.read_at(10,0)"
   ]
  },
  {
   "cell_type": "code",
   "execution_count": 51,
   "id": "8ca57c66-d745-48b1-8513-9b31638d1035",
   "metadata": {},
   "outputs": [],
   "source": [
    "import io"
   ]
  },
  {
   "cell_type": "code",
   "execution_count": 52,
   "id": "fa3f36b5-e21d-4b95-aad2-0eb4282e9adb",
   "metadata": {},
   "outputs": [],
   "source": [
    "txt = io.TextIOWrapper(f,newline='\\n')\n",
    "has_single = 0\n",
    "txt.readline() #skip fields\n",
    "line = txt.readline()\n",
    "while line != \"\":\n",
    "    if \"Single Family\" in line:\n",
    "        has_single+=1\n",
    "    line = txt.readline()"
   ]
  },
  {
   "cell_type": "code",
   "execution_count": 53,
   "id": "b6740de8-6dba-4017-aec3-845e4ef5cd22",
   "metadata": {},
   "outputs": [
    {
     "data": {
      "text/plain": [
       "444874"
      ]
     },
     "execution_count": 53,
     "metadata": {},
     "output_type": "execute_result"
    }
   ],
   "source": [
    "#q7\n",
    "has_single"
   ]
  }
 ],
 "metadata": {
  "kernelspec": {
   "display_name": "Python 3 (ipykernel)",
   "language": "python",
   "name": "python3"
  },
  "language_info": {
   "codemirror_mode": {
    "name": "ipython",
    "version": 3
   },
   "file_extension": ".py",
   "mimetype": "text/x-python",
   "name": "python",
   "nbconvert_exporter": "python",
   "pygments_lexer": "ipython3",
   "version": "3.10.12"
  }
 },
 "nbformat": 4,
 "nbformat_minor": 5
}
