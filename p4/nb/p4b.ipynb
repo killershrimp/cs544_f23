{
 "cells": [
  {
   "cell_type": "code",
   "execution_count": 2,
   "id": "426efc47-a099-4498-a126-ef852c290291",
   "metadata": {},
   "outputs": [
    {
     "name": "stdout",
     "output_type": "stream",
     "text": [
      "Configured Capacity: 51642105856 (48.10 GB)\n",
      "Present Capacity: 6616768512 (6.16 GB)\n",
      "DFS Remaining: 6085660672 (5.67 GB)\n",
      "DFS Used: 531107840 (506.50 MB)\n",
      "DFS Used%: 8.03%\n",
      "Replicated Blocks:\n",
      "\tUnder replicated blocks: 0\n",
      "\tBlocks with corrupt replicas: 0\n",
      "\tMissing blocks: 0\n",
      "\tMissing blocks (with replication factor 1): 0\n",
      "\tLow redundancy blocks with highest priority to recover: 0\n",
      "\tPending deletion blocks: 0\n",
      "Erasure Coded Block Groups: \n",
      "\tLow redundancy block groups: 0\n",
      "\tBlock groups with corrupt internal blocks: 0\n",
      "\tMissing block groups: 0\n",
      "\tLow redundancy blocks with highest priority to recover: 0\n",
      "\tPending deletion blocks: 0\n",
      "\n",
      "-------------------------------------------------\n",
      "Live datanodes (1):\n",
      "\n",
      "Name: 172.18.0.3:9866 (p4-dn-2.p4_default)\n",
      "Hostname: 0355590adf2f\n",
      "Decommission Status : Normal\n",
      "Configured Capacity: 25821052928 (24.05 GB)\n",
      "DFS Used: 267231232 (254.85 MB)\n",
      "Non DFS Used: 22494244864 (20.95 GB)\n",
      "DFS Remaining: 3042799616 (2.83 GB)\n",
      "DFS Used%: 1.03%\n",
      "DFS Remaining%: 11.78%\n",
      "Configured Cache Capacity: 0 (0 B)\n",
      "Cache Used: 0 (0 B)\n",
      "Cache Remaining: 0 (0 B)\n",
      "Cache Used%: 100.00%\n",
      "Cache Remaining%: 0.00%\n",
      "Xceivers: 0\n",
      "Last contact: Sun Nov 26 22:53:38 GMT 2023\n",
      "Last Block Report: Sun Nov 26 22:08:32 GMT 2023\n",
      "Num of Blocks: 252\n",
      "\n",
      "\n"
     ]
    }
   ],
   "source": [
    "#q8\n",
    "!hdfs dfsadmin -D 'fs.defaultFS=hdfs://boss:9000' -report -live"
   ]
  },
  {
   "cell_type": "code",
   "execution_count": null,
   "id": "e8865d28-6e19-4283-96ad-b052f611f477",
   "metadata": {},
   "outputs": [],
   "source": [
    "# for autograder\n",
    "import time\n",
    "time.sleep(30)"
   ]
  },
  {
   "cell_type": "code",
   "execution_count": 19,
   "id": "ad1fc95e-f40b-435c-a8e9-56f031bd3094",
   "metadata": {},
   "outputs": [
    {
     "name": "stdout",
     "output_type": "stream",
     "text": [
      "200\n",
      "{'FileStatus': {'accessTime': 1701036627785, 'blockSize': 1048576, 'childrenNum': 0, 'fileId': 16386, 'group': 'supergroup', 'length': 174944099, 'modificationTime': 1701036633888, 'owner': 'root', 'pathSuffix': '', 'permission': '644', 'replication': 1, 'storagePolicy': 0, 'type': 'FILE'}}\n"
     ]
    }
   ],
   "source": [
    "import requests\n",
    "\n",
    "status = requests.get(\"http://boss:9870/webhdfs/v1/single.csv?op=GETFILESTATUS\")\n",
    "status = status.json()\n",
    "print(status)\n"
   ]
  },
  {
   "cell_type": "code",
   "execution_count": 25,
   "id": "67112c1c-1429-4d44-8e7c-68fac3a95924",
   "metadata": {},
   "outputs": [
    {
     "name": "stdout",
     "output_type": "stream",
     "text": [
      "{'lost': 82, '0355590adf2f': 85}\n"
     ]
    }
   ],
   "source": [
    "block_size = status['FileStatus']['blockSize']\n",
    "length = status['FileStatus']['length']\n",
    "locs = {'lost':0}\n",
    "alive = []\n",
    "for i in range(0, length, block_size):\n",
    "    r = requests.get(\"http://boss:9870/webhdfs/v1/single.csv?op=OPEN&noredirect=true&offset=\"+str(i))\n",
    "    if r.status_code == 403:\n",
    "        locs['lost'] += 1\n",
    "        continue\n",
    "    full_url = r.json()['Location']\n",
    "    url = full_url.split(':')[1][2:]\n",
    "    alive.append(i)\n",
    "    if url in locs:\n",
    "        locs[url] += 1\n",
    "    else:\n",
    "        locs[url] = 1\n",
    "#q9\n",
    "print(locs)"
   ]
  },
  {
   "cell_type": "code",
   "execution_count": 26,
   "id": "c7298c00-acd0-4354-abb0-f5a68a739fdc",
   "metadata": {},
   "outputs": [],
   "source": [
    "import pyarrow as pa\n",
    "import pyarrow.fs\n",
    "import io\n",
    "hdfs = pa.fs.HadoopFileSystem(\"boss\", 9000)\n",
    "f = hdfs.open_input_file(\"/single.csv\")"
   ]
  },
  {
   "cell_type": "code",
   "execution_count": 32,
   "id": "f766347a-7a33-4069-a804-edc123f51eec",
   "metadata": {},
   "outputs": [],
   "source": [
    "skip_next = False\n",
    "count = 0\n",
    "string = b'Single Family'\n",
    "for i in alive:\n",
    "    line = f.read_at(block_size,i)\n",
    "    # line = line.split(\"\\n\")\n",
    "    # if skip_next:\n",
    "    #     # if already counted the string in the earlier part of the line, skip this next one\n",
    "    #     skip_next = False\n",
    "    #     line = line[1:]\n",
    "    if string in line:\n",
    "        count += 1"
   ]
  },
  {
   "cell_type": "code",
   "execution_count": 34,
   "id": "fa34aa1e-3bbd-4a36-9093-6665897afaaa",
   "metadata": {},
   "outputs": [
    {
     "name": "stdout",
     "output_type": "stream",
     "text": [
      "85\n"
     ]
    }
   ],
   "source": [
    "#q10\n",
    "print(count)"
   ]
  },
  {
   "cell_type": "code",
   "execution_count": null,
   "id": "9743cf66-f32b-4e76-b6c1-5dad637e11eb",
   "metadata": {},
   "outputs": [],
   "source": []
  }
 ],
 "metadata": {
  "kernelspec": {
   "display_name": "Python 3 (ipykernel)",
   "language": "python",
   "name": "python3"
  },
  "language_info": {
   "codemirror_mode": {
    "name": "ipython",
    "version": 3
   },
   "file_extension": ".py",
   "mimetype": "text/x-python",
   "name": "python",
   "nbconvert_exporter": "python",
   "pygments_lexer": "ipython3",
   "version": "3.10.12"
  }
 },
 "nbformat": 4,
 "nbformat_minor": 5
}
